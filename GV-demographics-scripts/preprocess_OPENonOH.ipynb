{
 "cells": [
  {
   "cell_type": "code",
   "execution_count": 3,
   "id": "855f0c6f",
   "metadata": {
    "ExecuteTime": {
     "end_time": "2022-03-15T21:45:20.861080Z",
     "start_time": "2022-03-15T21:45:05.769713Z"
    }
   },
   "outputs": [],
   "source": [
    "import pandas as pd\n",
    "import os\n",
    "from datetime import datetime, date\n",
    "import numpy as np\n",
    "import seaborn as sns\n",
    "import matplotlib.pyplot as plt\n",
    "%matplotlib inline\n",
    "from sklearn import preprocessing\n",
    "\n",
    "import warnings\n",
    "warnings.filterwarnings('ignore')\n",
    "\n",
    "# This function converts given date to age\n",
    "def age(born, days_present = True):\n",
    "    today = date.today()\n",
    "    if not days_present:\n",
    "        return today.year - born.year - int(today.month < born.month)    \n",
    "    return today.year - born.year - ((today.month, today.day) <\n",
    "                                     (born.month, born.day))"
   ]
  },
  {
   "cell_type": "markdown",
   "id": "fe84100c",
   "metadata": {},
   "source": [
    "## Import and preprocess OPENonOH demographics and statistical data\n",
    "Get it into the same shape as the OpenAPS dataset (OpenAPS complete_patient_statistics.xlsx)"
   ]
  },
  {
   "cell_type": "code",
   "execution_count": 4,
   "id": "cb57193b",
   "metadata": {
    "ExecuteTime": {
     "end_time": "2022-03-15T21:45:20.948941Z",
     "start_time": "2022-03-15T21:45:20.892961Z"
    },
    "scrolled": true
   },
   "outputs": [],
   "source": [
    "dir_ = \"/home/reinhold/Daten/Paper_Datasets_Nov2022\"\n",
    "filenames = [\n",
    "    r'FINAL n=75 statistics processed.xlsx', r'Demo+SRCO_Adults_Caregivers.xlsx', r'n=75_deduped_demographics.xlsx'] # Specify the file path\n",
    "\n",
    "OpenAPS_columns = [\"id\",\"interdaysd\", \"interdaycv\",\"bg_roc_stds\",\"TOR<70\",\"TIR\",\"TOR>180\",\"POR\",\"J_index\",\"LGBI\",\"HBGI\",\"GMI\",\"count\",\"mean+std\",\"mean-std\",\"mean\",\"std\",\n",
    "    \"min\",\"25 %\",\"50 %\",\"75 %\",\"max\",\"age\",\"dailyInsulinUnits\",\"dailyBasalInsulinUnits\",\"height\",\"weight\",\"gender\",\"country\",\"DIYTech\"]\n"
   ]
  },
  {
   "cell_type": "markdown",
   "id": "40631655",
   "metadata": {},
   "source": [
    "adapt the demographics file's variable naming"
   ]
  },
  {
   "cell_type": "code",
   "execution_count": 5,
   "id": "cacac0d4",
   "metadata": {},
   "outputs": [
    {
     "name": "stdout",
     "output_type": "stream",
     "text": [
      "check column name mapping:  []\n"
     ]
    }
   ],
   "source": [
    "\n",
    "#columns_ = [\"age\",\"height\", \"weight\", \"TOR<70\", \"TIR\", \"TOR>180\"] # \"dailyInsulinUnits\", \"dailyBasalInsulinUnits\", \"dailyCarbs\" missing\n",
    "\n",
    "col_maps = {\"TBR<70 [%]\" : \"TOR<70\", \"TIR [%]\" : \"TIR\", \"TAR>180 [%]\" : \"TOR>180\", \"year_of_birth\" : \"year\", \"month_of_birth\" : \"month\", \"country_of_origin\" : \"country\"}\n",
    "\n",
    "df = pd.read_excel(os.path.join(dir_, filenames[1]), sheet_name=\"n=75_deduped_compressed\")\n",
    "#df_OPENonOH_2 = pd.read_excel(os.path.join(dir_, filenames[2]))\n",
    "df.rename(columns=col_maps, inplace=True)  # to enable the age()-function defined above\n",
    "print(\"check column name mapping: \", [c for c in df.columns if \"[\\%]\" in c])\n",
    "# there is one entry, where there is no demographic information at all\n",
    "df.loc[~df['gender_child'].isnull(), 'is_child'] = 1\n",
    "df.loc[df['is_child'].isnull() & ~df['gender'].isnull(), 'is_child'] = 0\n",
    "\n",
    "df.loc[df['is_child']==1, 'country'] = df.loc[df['is_child']==1, 'country_of_origin_child']\n",
    "\n",
    "df.loc[df['is_child']==1, 'month'] = df.loc[df['is_child']==1, 'month_of_birth_child']\n",
    "df.loc[df['is_child']==1, 'year'] = df.loc[df['is_child']==1, 'year_of_birth_child']\n",
    "df.loc[df['is_child']>-0.1, 'age'] = df[df['is_child']>-0.1].apply(lambda x: age(x, False), axis=1)\n",
    "\n",
    "df['height'] = df['height_cm_v2']\n",
    "# cm vs inches\n",
    "df.loc[df['height'].isnull(), 'height'] = df.loc[df['height'].isnull(), 'height_inches_v2'] * 30.48 + df.loc[df['height'].isnull(), 'height_inches_2_v2'] * 2.54\n",
    "\n",
    "# child & cm vs inches\n",
    "df.loc[df['is_child']==1, 'height'] = df.loc[df['is_child']==1, 'height_cm_v2_child']\n",
    "sel_ = (df['height'].isnull()) & (df['is_child']==1)\n",
    "df.loc[sel_, 'height'] = df.loc[sel_, 'height_inches_v2_child'] * 30.48 + df.loc[sel_, 'height_inches_2_v2_child'] * 2.54\n",
    "\n",
    "\n",
    "\n",
    "df['weight'] = df['body_weight_kg_v2']\n",
    "# kg vs lbs\n",
    "df.loc[df['weight'].isnull(), 'weight'] = df.loc[df['weight'].isnull(), 'body_weight_pounds_v2'] * 0.453592\n",
    "\n",
    "df.loc[df['is_child']==1, 'weight'] = df.loc[df['is_child']==1, 'body_weight_kg_v2_child']\n",
    "# child & kg vs lbs\n",
    "sel_ = (df['weight'].isnull()) & (df['is_child']==1)\n",
    "df.loc[sel_, 'weight'] = df.loc[sel_, 'body_weight_pounds_v2_child'] * 0.453592\n",
    "\n",
    "# gender\n",
    "df.loc[df['gender'].isnull(), 'gender'] = df.loc[df['gender'].isnull(), 'gender_child']\n",
    "\n",
    "df.rename(columns={\"gender\" : \"gender_int\"}, inplace=True)\n",
    "df.loc[abs(df[\"gender_int\"]-1.0)<0.05, \"gender\"] = \"Female\"\n",
    "df.loc[abs(df[\"gender_int\"]-2.0)<0.05, \"gender\"] = \"Male\"\n",
    "df = df[[\"age\", \"project_member_id\", \"gender\", \"height\", \"weight\", \"country\", \"year\", \"month\", \"gender_int\", \"is_child\"]]\n"
   ]
  },
  {
   "cell_type": "markdown",
   "id": "944e9bbf",
   "metadata": {},
   "source": [
    "read the blood glucose data file and merge it with the demographics information"
   ]
  },
  {
   "cell_type": "code",
   "execution_count": 6,
   "id": "bb59ba35",
   "metadata": {},
   "outputs": [
    {
     "name": "stdout",
     "output_type": "stream",
     "text": [
      "check column name mapping:  []\n",
      "saved to: /home/reinhold/Daten/Paper_Datasets_Nov2022/OPENonOH complete_patient_statistics.xlsx\n"
     ]
    }
   ],
   "source": [
    "\n",
    "df_BG_stats = pd.read_excel(os.path.join(dir_, filenames[0]))\n",
    "df_out = pd.merge(df, df_BG_stats, left_on='project_member_id', right_on='id', how='inner')\n",
    "\n",
    "df_out.rename(columns=col_maps, inplace=True)  # to enable the age()-function defined above\n",
    "print(\"check column name mapping: \", [c for c in df.columns if \"[\\%]\" in c])\n",
    "\n",
    "#df.drop(columns=['id', \"height_cm_v2\", \"month\", \"year\"], inplace=True)\n",
    "df_out.drop(columns=['project_member_id'], inplace=True)\n",
    "new_col_sequence = [\"id\"]\n",
    "new_col_sequence.extend([c for c in df_out.columns if c !=\"id\"])\n",
    "df_out = df_out.reindex(columns = new_col_sequence)\n",
    "df_out.to_excel(os.path.join(dir_, \"OPENonOH complete_patient_statistics.xlsx\"), index=False)\n",
    "print(f'saved to: {os.path.join(dir_, \"OPENonOH complete_patient_statistics.xlsx\")}')"
   ]
  },
  {
   "cell_type": "code",
   "execution_count": 7,
   "id": "1b6d10a0",
   "metadata": {},
   "outputs": [
    {
     "name": "stdout",
     "output_type": "stream",
     "text": [
      "<class 'pandas.core.frame.DataFrame'>\n",
      "Int64Index: 75 entries, 0 to 74\n",
      "Data columns (total 29 columns):\n",
      " #   Column       Non-Null Count  Dtype  \n",
      "---  ------       --------------  -----  \n",
      " 0   id           75 non-null     int64  \n",
      " 1   age          73 non-null     float64\n",
      " 2   gender       74 non-null     object \n",
      " 3   height       72 non-null     float64\n",
      " 4   weight       71 non-null     float64\n",
      " 5   country      74 non-null     float64\n",
      " 6   year         73 non-null     float64\n",
      " 7   month        73 non-null     float64\n",
      " 8   gender_int   74 non-null     float64\n",
      " 9   is_child     74 non-null     float64\n",
      " 10  interdaysd   75 non-null     float64\n",
      " 11  interdaycv   75 non-null     float64\n",
      " 12  bg_roc_stds  75 non-null     float64\n",
      " 13  TOR<70       75 non-null     float64\n",
      " 14  TIR          75 non-null     float64\n",
      " 15  TOR>180      75 non-null     float64\n",
      " 16  POR          75 non-null     float64\n",
      " 17  J_index      75 non-null     float64\n",
      " 18  LGBI         75 non-null     float64\n",
      " 19  HBGI         75 non-null     float64\n",
      " 20  GMI          75 non-null     float64\n",
      " 21  count        75 non-null     int64  \n",
      " 22  mean         75 non-null     float64\n",
      " 23  std          75 non-null     float64\n",
      " 24  min          75 non-null     int64  \n",
      " 25  0.25         75 non-null     int64  \n",
      " 26  0.5          75 non-null     int64  \n",
      " 27  0.75         75 non-null     int64  \n",
      " 28  max          75 non-null     int64  \n",
      "dtypes: float64(21), int64(7), object(1)\n",
      "memory usage: 17.6+ KB\n"
     ]
    },
    {
     "data": {
      "text/html": [
       "<div>\n",
       "<style scoped>\n",
       "    .dataframe tbody tr th:only-of-type {\n",
       "        vertical-align: middle;\n",
       "    }\n",
       "\n",
       "    .dataframe tbody tr th {\n",
       "        vertical-align: top;\n",
       "    }\n",
       "\n",
       "    .dataframe thead th {\n",
       "        text-align: right;\n",
       "    }\n",
       "</style>\n",
       "<table border=\"1\" class=\"dataframe\">\n",
       "  <thead>\n",
       "    <tr style=\"text-align: right;\">\n",
       "      <th></th>\n",
       "      <th>id</th>\n",
       "      <th>age</th>\n",
       "      <th>gender</th>\n",
       "      <th>height</th>\n",
       "      <th>weight</th>\n",
       "      <th>country</th>\n",
       "      <th>year</th>\n",
       "      <th>month</th>\n",
       "      <th>gender_int</th>\n",
       "      <th>is_child</th>\n",
       "      <th>...</th>\n",
       "      <th>HBGI</th>\n",
       "      <th>GMI</th>\n",
       "      <th>count</th>\n",
       "      <th>mean</th>\n",
       "      <th>std</th>\n",
       "      <th>min</th>\n",
       "      <th>0.25</th>\n",
       "      <th>0.5</th>\n",
       "      <th>0.75</th>\n",
       "      <th>max</th>\n",
       "    </tr>\n",
       "  </thead>\n",
       "  <tbody>\n",
       "    <tr>\n",
       "      <th>0</th>\n",
       "      <td>27718918</td>\n",
       "      <td>NaN</td>\n",
       "      <td>Female</td>\n",
       "      <td>180.00</td>\n",
       "      <td>80.0</td>\n",
       "      <td>82.0</td>\n",
       "      <td>NaN</td>\n",
       "      <td>NaN</td>\n",
       "      <td>1.0</td>\n",
       "      <td>0.0</td>\n",
       "      <td>...</td>\n",
       "      <td>4.036825</td>\n",
       "      <td>6.560361</td>\n",
       "      <td>120437</td>\n",
       "      <td>135.884665</td>\n",
       "      <td>52.012434</td>\n",
       "      <td>40</td>\n",
       "      <td>96</td>\n",
       "      <td>123</td>\n",
       "      <td>166</td>\n",
       "      <td>400</td>\n",
       "    </tr>\n",
       "    <tr>\n",
       "      <th>1</th>\n",
       "      <td>37159654</td>\n",
       "      <td>28.0</td>\n",
       "      <td>Female</td>\n",
       "      <td>157.48</td>\n",
       "      <td>75.0</td>\n",
       "      <td>229.0</td>\n",
       "      <td>1994.0</td>\n",
       "      <td>11.0</td>\n",
       "      <td>1.0</td>\n",
       "      <td>0.0</td>\n",
       "      <td>...</td>\n",
       "      <td>7.252564</td>\n",
       "      <td>6.926553</td>\n",
       "      <td>25745</td>\n",
       "      <td>151.193707</td>\n",
       "      <td>75.951784</td>\n",
       "      <td>40</td>\n",
       "      <td>95</td>\n",
       "      <td>131</td>\n",
       "      <td>188</td>\n",
       "      <td>400</td>\n",
       "    </tr>\n",
       "  </tbody>\n",
       "</table>\n",
       "<p>2 rows × 29 columns</p>\n",
       "</div>"
      ],
      "text/plain": [
       "         id   age  gender  height  weight  country    year  month  gender_int  \\\n",
       "0  27718918   NaN  Female  180.00    80.0     82.0     NaN    NaN         1.0   \n",
       "1  37159654  28.0  Female  157.48    75.0    229.0  1994.0   11.0         1.0   \n",
       "\n",
       "   is_child  ...      HBGI       GMI   count        mean        std  min  \\\n",
       "0       0.0  ...  4.036825  6.560361  120437  135.884665  52.012434   40   \n",
       "1       0.0  ...  7.252564  6.926553   25745  151.193707  75.951784   40   \n",
       "\n",
       "   0.25  0.5  0.75  max  \n",
       "0    96  123   166  400  \n",
       "1    95  131   188  400  \n",
       "\n",
       "[2 rows x 29 columns]"
      ]
     },
     "execution_count": 7,
     "metadata": {},
     "output_type": "execute_result"
    }
   ],
   "source": [
    "df_out.info()\n",
    "len(df.columns), df.columns\n",
    "df_out.head(2)\n"
   ]
  },
  {
   "cell_type": "code",
   "execution_count": 8,
   "id": "507c6e44",
   "metadata": {},
   "outputs": [
    {
     "data": {
      "text/html": [
       "<div>\n",
       "<style scoped>\n",
       "    .dataframe tbody tr th:only-of-type {\n",
       "        vertical-align: middle;\n",
       "    }\n",
       "\n",
       "    .dataframe tbody tr th {\n",
       "        vertical-align: top;\n",
       "    }\n",
       "\n",
       "    .dataframe thead th {\n",
       "        text-align: right;\n",
       "    }\n",
       "</style>\n",
       "<table border=\"1\" class=\"dataframe\">\n",
       "  <thead>\n",
       "    <tr style=\"text-align: right;\">\n",
       "      <th></th>\n",
       "      <th>id</th>\n",
       "    </tr>\n",
       "    <tr>\n",
       "      <th>gender</th>\n",
       "      <th></th>\n",
       "    </tr>\n",
       "  </thead>\n",
       "  <tbody>\n",
       "    <tr>\n",
       "      <th>Female</th>\n",
       "      <td>27</td>\n",
       "    </tr>\n",
       "    <tr>\n",
       "      <th>Male</th>\n",
       "      <td>47</td>\n",
       "    </tr>\n",
       "  </tbody>\n",
       "</table>\n",
       "</div>"
      ],
      "text/plain": [
       "        id\n",
       "gender    \n",
       "Female  27\n",
       "Male    47"
      ]
     },
     "execution_count": 8,
     "metadata": {},
     "output_type": "execute_result"
    }
   ],
   "source": [
    "df_out.groupby(by='gender').agg({'id' : 'count'})"
   ]
  },
  {
   "cell_type": "code",
   "execution_count": 9,
   "id": "6f8bbf25",
   "metadata": {},
   "outputs": [
    {
     "data": {
      "text/html": [
       "<div>\n",
       "<style scoped>\n",
       "    .dataframe tbody tr th:only-of-type {\n",
       "        vertical-align: middle;\n",
       "    }\n",
       "\n",
       "    .dataframe tbody tr th {\n",
       "        vertical-align: top;\n",
       "    }\n",
       "\n",
       "    .dataframe thead th {\n",
       "        text-align: right;\n",
       "    }\n",
       "</style>\n",
       "<table border=\"1\" class=\"dataframe\">\n",
       "  <thead>\n",
       "    <tr style=\"text-align: right;\">\n",
       "      <th></th>\n",
       "      <th>id</th>\n",
       "    </tr>\n",
       "    <tr>\n",
       "      <th>is_child</th>\n",
       "      <th></th>\n",
       "    </tr>\n",
       "  </thead>\n",
       "  <tbody>\n",
       "    <tr>\n",
       "      <th>0.0</th>\n",
       "      <td>67</td>\n",
       "    </tr>\n",
       "    <tr>\n",
       "      <th>1.0</th>\n",
       "      <td>7</td>\n",
       "    </tr>\n",
       "  </tbody>\n",
       "</table>\n",
       "</div>"
      ],
      "text/plain": [
       "          id\n",
       "is_child    \n",
       "0.0       67\n",
       "1.0        7"
      ]
     },
     "execution_count": 9,
     "metadata": {},
     "output_type": "execute_result"
    }
   ],
   "source": [
    "df_out.groupby(by='is_child').agg({'id' : 'count'})"
   ]
  },
  {
   "cell_type": "code",
   "execution_count": null,
   "id": "fc960a4a",
   "metadata": {},
   "outputs": [],
   "source": []
  }
 ],
 "metadata": {
  "kernelspec": {
   "display_name": "Python 3.8.10 64-bit",
   "language": "python",
   "name": "python3"
  },
  "language_info": {
   "codemirror_mode": {
    "name": "ipython",
    "version": 3
   },
   "file_extension": ".py",
   "mimetype": "text/x-python",
   "name": "python",
   "nbconvert_exporter": "python",
   "pygments_lexer": "ipython3",
   "version": "3.8.10"
  },
  "toc": {
   "base_numbering": 1,
   "nav_menu": {},
   "number_sections": true,
   "sideBar": true,
   "skip_h1_title": false,
   "title_cell": "Table of Contents",
   "title_sidebar": "Contents",
   "toc_cell": false,
   "toc_position": {},
   "toc_section_display": true,
   "toc_window_display": false
  },
  "varInspector": {
   "cols": {
    "lenName": 16,
    "lenType": 16,
    "lenVar": 40
   },
   "kernels_config": {
    "python": {
     "delete_cmd_postfix": "",
     "delete_cmd_prefix": "del ",
     "library": "var_list.py",
     "varRefreshCmd": "print(var_dic_list())"
    },
    "r": {
     "delete_cmd_postfix": ") ",
     "delete_cmd_prefix": "rm(",
     "library": "var_list.r",
     "varRefreshCmd": "cat(var_dic_list()) "
    }
   },
   "types_to_exclude": [
    "module",
    "function",
    "builtin_function_or_method",
    "instance",
    "_Feature"
   ],
   "window_display": false
  },
  "vscode": {
   "interpreter": {
    "hash": "916dbcbb3f70747c44a77c7bcd40155683ae19c65e1c03b4aa3499c5328201f1"
   }
  }
 },
 "nbformat": 4,
 "nbformat_minor": 5
}
