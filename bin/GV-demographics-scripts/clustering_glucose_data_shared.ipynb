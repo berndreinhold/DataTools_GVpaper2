{
 "cells": [
  {
   "cell_type": "code",
   "execution_count": null,
   "id": "ff868939",
   "metadata": {},
   "outputs": [],
   "source": [
    "import pandas as pd\n",
    "from datetime import datetime, date\n",
    "import numpy as np\n",
    "import seaborn as sns\n",
    "import matplotlib.pyplot as plt\n",
    "%matplotlib inline\n",
    "\n",
    "import os\n",
    "import pandas as pd\n",
    "import openpyxl as excel\n",
    "import glob\n",
    "import cgmquantify as cgm"
   ]
  },
  {
   "cell_type": "code",
   "execution_count": null,
   "id": "b02cd67d",
   "metadata": {},
   "outputs": [],
   "source": [
    "path = r'' # specify data path\n",
    "\n",
    "extension = 'csv'\n",
    "\n",
    "os.chdir(path)\n",
    "\n",
    "files = [i for i in glob.glob('*.{}'.format(extension))]\n",
    "\n",
    "files\n",
    "\n",
    "patient_unstrip_IDs = [i.split('_entries', 1)[0] for i in files]\n",
    "\n",
    "patient_IDs = [ele.lstrip('0') for ele in patient_unstrip_IDs]\n",
    "\n",
    "#f = files[0]\n",
    "#print(f)\n",
    "\n",
    "print(patient_IDs)\n",
    "\n",
    "df_id_files = pd.DataFrame(\n",
    "    {'id': patient_IDs,\n",
    "     'EntriesFileName': files\n",
    "    })\n",
    "\n",
    "print(df_id_files)"
   ]
  },
  {
   "cell_type": "code",
   "execution_count": null,
   "id": "f78a99a3",
   "metadata": {},
   "outputs": [],
   "source": [
    "all_data = pd.DataFrame()\n",
    "i = 0\n",
    "\n",
    "for f in files:\n",
    "    df = pd.read_csv(f, index_col=None, na_values = \" null\")\n",
    "    df = df.rename(columns={\"glucose\": patient_IDs[i]})\n",
    "    df = df[patient_IDs[i]]\n",
    "    all_data = all_data.append(df)\n",
    "    i=i+1\n",
    "print(all_data)"
   ]
  },
  {
   "cell_type": "code",
   "execution_count": null,
   "id": "8c868696",
   "metadata": {},
   "outputs": [],
   "source": [
    "copydata = all_data.T "
   ]
  },
  {
   "cell_type": "code",
   "execution_count": null,
   "id": "cabbc630",
   "metadata": {},
   "outputs": [],
   "source": [
    "copydata = copydata.dropna()\n",
    "\n",
    "copydata1 = copydata.apply(pd.to_numeric).T\n",
    "\n",
    "copydata2 = copydata1.iloc[: , :123]\n",
    "copydata2"
   ]
  },
  {
   "cell_type": "code",
   "execution_count": null,
   "id": "13b3a891",
   "metadata": {},
   "outputs": [],
   "source": [
    "# Replace infinite updated data with nan\n",
    "copydata.replace([np.nan, -np.inf], 0, inplace=True)"
   ]
  },
  {
   "cell_type": "code",
   "execution_count": null,
   "id": "0cba2be9",
   "metadata": {
    "ExecuteTime": {
     "end_time": "2022-03-15T22:15:23.915768Z",
     "start_time": "2022-03-15T22:15:15.107618Z"
    }
   },
   "outputs": [],
   "source": [
    "from colorsys import hls_to_rgb\n",
    "import numpy as np\n",
    "from scipy.cluster.hierarchy import ward, fcluster\n",
    "import numpy as np\n",
    "\n",
    "from matplotlib import pyplot as plt\n",
    "from scipy.cluster.hierarchy import dendrogram\n",
    "from sklearn.datasets import load_iris\n",
    "from sklearn.cluster import AgglomerativeClustering\n",
    "from scipy.cluster.hierarchy import dendrogram, linkage\n",
    "\n",
    "\n",
    "def fancy_dendrogram(*args, **kwargs):\n",
    "    max_d = kwargs.pop('max_d', None)\n",
    "    if max_d and 'color_threshold' not in kwargs:\n",
    "        kwargs['color_threshold'] = max_d\n",
    "    annotate_above = kwargs.pop('annotate_above', 0)\n",
    "\n",
    "    ddata = dendrogram(*args, **kwargs)\n",
    "\n",
    "    if not kwargs.get('no_plot', False):\n",
    "        plt.title('Hierarchical Clustering Dendrogram (truncated)')\n",
    "        plt.xlabel('sample index or (cluster size)')\n",
    "        plt.ylabel('distance')\n",
    "        for i, d, c in zip(ddata['icoord'], ddata['dcoord'],\n",
    "                           ddata['color_list']):\n",
    "            x = 0.5 * sum(i[1:3])\n",
    "            y = d[1]\n",
    "            if y > annotate_above:\n",
    "                plt.plot(x, y, 'o', c=c)\n",
    "                plt.annotate(\"%.3g\" % y, (x, y),\n",
    "                             xytext=(0, -5),\n",
    "                             textcoords='offset points',\n",
    "                             va='top',\n",
    "                             ha='center')\n",
    "        if max_d:\n",
    "            plt.axhline(y=max_d, c='k')\n",
    "    return ddata\n",
    "\n",
    "\n",
    "def get_distinct_colors(n):\n",
    "\n",
    "    colors = []\n",
    "\n",
    "    for i in np.arange(0., 360., 360. / n):\n",
    "        h = i / 360. + 50\n",
    "        l = (50 + np.random.rand() * 10) / 100.\n",
    "        s = (90 + np.random.rand() * 10) / 100.\n",
    "        colors.append(hls_to_rgb(h, l, s))\n",
    "\n",
    "    return colors\n",
    "\n",
    "\n",
    "copydata2 = copydata2.apply(pd.to_numeric).T\n",
    "\n",
    "X = copydata2.values\n",
    "\n",
    "print(X)\n",
    "# generate the linkage matrix\n",
    "# Perform hierarchical/agglomerative clustering\n",
    "Z = linkage(X, 'ward')\n",
    "\n",
    "max_d = 0.7  # max_d as in max_distance\n",
    "\n",
    "results = pd.DataFrame(index=copydata2.index, columns=['hier'])\n",
    "# create flat clusters\n",
    "results['hier'] = fcluster(Z, max_d, criterion='distance')\n",
    "\n",
    "print(results['hier'])\n",
    "\n",
    "from matplotlib.cm import get_cmap\n",
    "\n",
    "groups = results.groupby(['hier'])\n",
    "name = \"tab20\"\n",
    "cmap = get_cmap(name)  # type: matplotlib.colors.ListedColormap\n",
    "colors = get_distinct_colors(len(groups))  # type: list\n",
    "k = 0\n",
    "for name, group in groups:\n",
    "    groupnames = (group.index.values)\n",
    "    print('=' * 120)\n",
    "    print(name)\n",
    "    fig, ax = plt.subplots(len(groupnames),\n",
    "                           1,\n",
    "                           figsize=(20, 5 * len(groupnames)))\n",
    "    color = colors[k]\n",
    "    k += 1\n",
    "    i = 0\n",
    "    for eachname in groupnames:\n",
    "        if len(groupnames) == 1:\n",
    "            ax.plot(all_data[eachname], c=color)\n",
    "            ax.set_title(eachname)\n",
    "        else:\n",
    "            ax[i].plot(all_data[eachname], c=color)\n",
    "            ax[i].set_title(eachname)\n",
    "            i += 1\n",
    "    #plt.show()"
   ]
  }
 ],
 "metadata": {
  "kernelspec": {
   "display_name": "Python 3",
   "language": "python",
   "name": "python3"
  },
  "language_info": {
   "codemirror_mode": {
    "name": "ipython",
    "version": 3
   },
   "file_extension": ".py",
   "mimetype": "text/x-python",
   "name": "python",
   "nbconvert_exporter": "python",
   "pygments_lexer": "ipython3",
   "version": "3.8.8"
  },
  "toc": {
   "base_numbering": 1,
   "nav_menu": {},
   "number_sections": true,
   "sideBar": true,
   "skip_h1_title": false,
   "title_cell": "Table of Contents",
   "title_sidebar": "Contents",
   "toc_cell": false,
   "toc_position": {},
   "toc_section_display": true,
   "toc_window_display": false
  },
  "varInspector": {
   "cols": {
    "lenName": 16,
    "lenType": 16,
    "lenVar": 40
   },
   "kernels_config": {
    "python": {
     "delete_cmd_postfix": "",
     "delete_cmd_prefix": "del ",
     "library": "var_list.py",
     "varRefreshCmd": "print(var_dic_list())"
    },
    "r": {
     "delete_cmd_postfix": ") ",
     "delete_cmd_prefix": "rm(",
     "library": "var_list.r",
     "varRefreshCmd": "cat(var_dic_list()) "
    }
   },
   "types_to_exclude": [
    "module",
    "function",
    "builtin_function_or_method",
    "instance",
    "_Feature"
   ],
   "window_display": false
  }
 },
 "nbformat": 4,
 "nbformat_minor": 5
}
