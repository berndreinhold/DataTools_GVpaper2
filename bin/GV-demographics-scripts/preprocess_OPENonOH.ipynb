{
 "cells": [
  {
   "cell_type": "code",
   "execution_count": 52,
   "id": "855f0c6f",
   "metadata": {
    "ExecuteTime": {
     "end_time": "2022-03-15T21:45:20.861080Z",
     "start_time": "2022-03-15T21:45:05.769713Z"
    }
   },
   "outputs": [],
   "source": [
    "import pandas as pd\n",
    "import os\n",
    "from datetime import datetime, date\n",
    "import numpy as np\n",
    "import seaborn as sns\n",
    "import matplotlib.pyplot as plt\n",
    "%matplotlib inline\n",
    "from sklearn import preprocessing\n",
    "\n",
    "import warnings\n",
    "warnings.filterwarnings('ignore')\n",
    "\n",
    "# This function converts given date to age\n",
    "def age(born, days_present = True):\n",
    "    today = date.today()\n",
    "    if not days_present:\n",
    "        return today.year - born.year - int(today.month < born.month)    \n",
    "    return today.year - born.year - ((today.month, today.day) <\n",
    "                                     (born.month, born.day))"
   ]
  },
  {
   "cell_type": "markdown",
   "id": "fe84100c",
   "metadata": {},
   "source": [
    "## Import and preprocess OPENonOH demographics and statistical data\n",
    "Get it into the same shape as the OpenAPS dataset (OpenAPS complete_patient_statistics.xlsx)"
   ]
  },
  {
   "cell_type": "code",
   "execution_count": 53,
   "id": "cb57193b",
   "metadata": {
    "ExecuteTime": {
     "end_time": "2022-03-15T21:45:20.948941Z",
     "start_time": "2022-03-15T21:45:20.892961Z"
    },
    "scrolled": true
   },
   "outputs": [
    {
     "name": "stdout",
     "output_type": "stream",
     "text": [
      "29 Index(['id', 'interdaysd', 'interdaycv', 'bg_roc_stds', 'TOR<70', 'TIR',\n",
      "       'TOR>180', 'POR', 'J_index', 'LGBI', 'HBGI', 'GMI', 'count', 'mean',\n",
      "       'std', 'min', 'Q1', 'Q2', 'Q3', 'max', 'project_member_id', 'month',\n",
      "       'year', 'height_cm_v2', 'age', 'height', 'weight', 'month', 'year'],\n",
      "      dtype='object')\n"
     ]
    }
   ],
   "source": [
    "dir_ = \"/home/reinhold/Daten/Paper_Datasets_Nov2022\"\n",
    "filenames = [\n",
    "    r'FINAL n=75 statistics processed.xlsx', r'Demo+SRCO_Adults_Caregivers.xlsx', r'n=75_deduped_demographics.xlsx'] # Specify the file path\n",
    "\n",
    "#columns_ = [\"age\",\"height\", \"weight\", \"TOR<70\", \"TIR\", \"TOR>180\"] # \"dailyInsulinUnits\", \"dailyBasalInsulinUnits\", \"dailyCarbs\" missing\n",
    "col_maps = {\"TBR<70 [%]\" : \"TOR<70\", \"TIR [%]\" : \"TIR\", \"TAR>180 [%]\" : \"TOR>180\"}\n",
    "col_maps.update({'project_member_id_x': 'project_member_id', \"age_x\" : \"age\", 'height_cm_v2_x' : 'height_cm_v2', 'weight_kg_x' : 'weight_kg'})\n",
    "col_maps.update({0.25 : \"Q1\", 0.5 : \"Q2\", 0.75 : \"Q3\", \"year_of_birth\" : \"year\", \"month_of_birth\" : \"month\"})\n",
    "\n",
    "df_OPENonOH_0 = pd.read_excel(os.path.join(dir_, filenames[0]))\n",
    "df_OPENonOH_1 = pd.read_excel(os.path.join(dir_, filenames[1]), sheet_name=\"n=75_deduped_compressed\")\n",
    "df_OPENonOH_2 = pd.read_excel(os.path.join(dir_, filenames[2]))\n",
    "\n",
    "df = pd.merge(df_OPENonOH_0, df_OPENonOH_1, left_on='id', right_on='project_member_id', how='inner')\n",
    "df.rename(columns=col_maps, inplace=True)\n",
    "df['age'] = df.apply(lambda x: age(x, False), axis=1)\n",
    "df['height'] = df['height_cm_v2']\n",
    "df.loc[df['height'].isnull(), 'height'] = df.loc[df['height'].isnull(), 'height_inches_v2'] * 30.48 + df.loc[df['height'].isnull(), 'height_inches_2_v2'] * 2.54\n",
    "df['weight'] = df['body_weight_kg_v2']\n",
    "df.loc[df['weight'].isnull(), 'weight'] = df.loc[df['weight'].isnull(), 'body_weight_pounds_v2'] * 0.453592\n",
    "\n",
    "df = pd.merge(df, df_OPENonOH_2, left_on='id', right_on='project_member_id', how='inner')\n",
    "df.rename(columns=col_maps, inplace=True)\n",
    "for exclusions in [\"child\", \"_x\", \"_y\"]:\n",
    "    df.drop(columns=[c for c in df.columns if exclusions in str(c)], inplace=True)\n",
    "\n",
    "print(len(df.columns), df.columns)\n",
    "df.to_excel(os.path.join(dir_, \"OPENonOH complete_patient_statistics.xlsx\"))"
   ]
  },
  {
   "cell_type": "code",
   "execution_count": 54,
   "id": "0a2c908b",
   "metadata": {},
   "outputs": [
    {
     "data": {
      "text/plain": [
       "Index(['id', 'interdaysd', 'interdaycv', 'bg_roc_stds', 'TOR<70', 'TIR',\n",
       "       'TOR>180', 'POR', 'J_index', 'LGBI', 'HBGI', 'GMI', 'count', 'mean',\n",
       "       'std', 'min', 'Q1', 'Q2', 'Q3', 'max', 'project_member_id', 'month',\n",
       "       'year', 'height_cm_v2', 'age', 'height', 'weight', 'month', 'year'],\n",
       "      dtype='object')"
      ]
     },
     "execution_count": 54,
     "metadata": {},
     "output_type": "execute_result"
    }
   ],
   "source": [
    "#df.info()\n",
    "#df.head(2)\n",
    "df.columns"
   ]
  }
 ],
 "metadata": {
  "kernelspec": {
   "display_name": "Python 3.8.10 64-bit",
   "language": "python",
   "name": "python3"
  },
  "language_info": {
   "codemirror_mode": {
    "name": "ipython",
    "version": 3
   },
   "file_extension": ".py",
   "mimetype": "text/x-python",
   "name": "python",
   "nbconvert_exporter": "python",
   "pygments_lexer": "ipython3",
   "version": "3.8.10"
  },
  "toc": {
   "base_numbering": 1,
   "nav_menu": {},
   "number_sections": true,
   "sideBar": true,
   "skip_h1_title": false,
   "title_cell": "Table of Contents",
   "title_sidebar": "Contents",
   "toc_cell": false,
   "toc_position": {},
   "toc_section_display": true,
   "toc_window_display": false
  },
  "varInspector": {
   "cols": {
    "lenName": 16,
    "lenType": 16,
    "lenVar": 40
   },
   "kernels_config": {
    "python": {
     "delete_cmd_postfix": "",
     "delete_cmd_prefix": "del ",
     "library": "var_list.py",
     "varRefreshCmd": "print(var_dic_list())"
    },
    "r": {
     "delete_cmd_postfix": ") ",
     "delete_cmd_prefix": "rm(",
     "library": "var_list.r",
     "varRefreshCmd": "cat(var_dic_list()) "
    }
   },
   "types_to_exclude": [
    "module",
    "function",
    "builtin_function_or_method",
    "instance",
    "_Feature"
   ],
   "window_display": false
  },
  "vscode": {
   "interpreter": {
    "hash": "916dbcbb3f70747c44a77c7bcd40155683ae19c65e1c03b4aa3499c5328201f1"
   }
  }
 },
 "nbformat": 4,
 "nbformat_minor": 5
}
